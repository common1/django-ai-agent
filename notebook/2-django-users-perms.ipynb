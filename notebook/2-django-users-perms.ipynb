{
 "cells": [
  {
   "cell_type": "code",
   "execution_count": 8,
   "id": "f674e5d2",
   "metadata": {},
   "outputs": [],
   "source": [
    "import setup # notebooks/setup.py\n",
    "setup.init()"
   ]
  },
  {
   "cell_type": "code",
   "execution_count": 9,
   "id": "3f76df66",
   "metadata": {},
   "outputs": [
    {
     "data": {
      "text/plain": [
       "<QuerySet [<User: ubuntuuser>, <User: staff>, <User: ethan_hunt>]>"
      ]
     },
     "execution_count": 9,
     "metadata": {},
     "output_type": "execute_result"
    }
   ],
   "source": [
    "from django.contrib.auth import get_user_model\n",
    "\n",
    "User = get_user_model()\n",
    "\n",
    "User.objects.all()"
   ]
  },
  {
   "cell_type": "code",
   "execution_count": 12,
   "id": "38eba0f7",
   "metadata": {},
   "outputs": [
    {
     "data": {
      "text/plain": [
       "<User: ethan_hunt>"
      ]
     },
     "execution_count": 12,
     "metadata": {},
     "output_type": "execute_result"
    }
   ],
   "source": [
    "# user_obj = User.objects.create(\n",
    "#     username = \"ethan_hunt\"\n",
    "# )\n",
    "user_obj = User.objects.get(\n",
    "    username = \"ethan_hunt\"\n",
    ")\n",
    "user_obj.is_staff = True\n",
    "user_obj.set_password(\"abc123\")\n",
    "user_obj.save()\n",
    "user_obj"
   ]
  },
  {
   "cell_type": "code",
   "execution_count": 32,
   "id": "28e6b00f",
   "metadata": {},
   "outputs": [
    {
     "data": {
      "text/plain": [
       "<Document: Document object (None)>"
      ]
     },
     "execution_count": 32,
     "metadata": {},
     "output_type": "execute_result"
    }
   ],
   "source": [
    "from documents.models import Document\n",
    "\n",
    "doc_obj = Document(\n",
    "    owner = user_obj,\n",
    "    title = \"Hello world\"    \n",
    ")\n",
    "doc_obj"
   ]
  },
  {
   "cell_type": "code",
   "execution_count": 33,
   "id": "75a12985",
   "metadata": {},
   "outputs": [],
   "source": [
    "doc_obj.save()"
   ]
  },
  {
   "cell_type": "code",
   "execution_count": 34,
   "id": "bdb7d56d",
   "metadata": {},
   "outputs": [
    {
     "data": {
      "text/plain": [
       "<Document: Document object (5)>"
      ]
     },
     "execution_count": 34,
     "metadata": {},
     "output_type": "execute_result"
    }
   ],
   "source": [
    "doc_obj"
   ]
  },
  {
   "cell_type": "code",
   "execution_count": 60,
   "id": "250d5ee1",
   "metadata": {},
   "outputs": [
    {
     "data": {
      "text/plain": [
       "<User: staff>"
      ]
     },
     "execution_count": 60,
     "metadata": {},
     "output_type": "execute_result"
    }
   ],
   "source": [
    "user_obj = User.objects.last()\n",
    "user_obj"
   ]
  },
  {
   "cell_type": "code",
   "execution_count": 61,
   "id": "7693225b",
   "metadata": {},
   "outputs": [
    {
     "data": {
      "text/plain": [
       "<Document: Document object (16)>"
      ]
     },
     "execution_count": 61,
     "metadata": {},
     "output_type": "execute_result"
    }
   ],
   "source": [
    "Document.objects.create(owner=user_obj)"
   ]
  },
  {
   "cell_type": "code",
   "execution_count": 49,
   "id": "2cdd9de0",
   "metadata": {},
   "outputs": [
    {
     "data": {
      "text/plain": [
       "1"
      ]
     },
     "execution_count": 49,
     "metadata": {},
     "output_type": "execute_result"
    }
   ],
   "source": [
    "user_obj.id"
   ]
  }
 ],
 "metadata": {
  "kernelspec": {
   "display_name": ".venv",
   "language": "python",
   "name": "python3"
  },
  "language_info": {
   "codemirror_mode": {
    "name": "ipython",
    "version": 3
   },
   "file_extension": ".py",
   "mimetype": "text/x-python",
   "name": "python",
   "nbconvert_exporter": "python",
   "pygments_lexer": "ipython3",
   "version": "3.10.12"
  }
 },
 "nbformat": 4,
 "nbformat_minor": 5
}
