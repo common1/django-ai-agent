{
 "cells": [
  {
   "cell_type": "code",
   "execution_count": 6,
   "id": "f674e5d2",
   "metadata": {},
   "outputs": [],
   "source": [
    "import setup # notebooks/setup.py\n",
    "setup.init()"
   ]
  },
  {
   "cell_type": "code",
   "execution_count": 7,
   "id": "3f76df66",
   "metadata": {},
   "outputs": [
    {
     "data": {
      "text/plain": [
       "<QuerySet [<User: ubuntuuser>, <User: ethanhunt>]>"
      ]
     },
     "execution_count": 7,
     "metadata": {},
     "output_type": "execute_result"
    }
   ],
   "source": [
    "from django.contrib.auth import get_user_model # type: ignore\n",
    "\n",
    "User = get_user_model()\n",
    "\n",
    "User.objects.all()"
   ]
  },
  {
   "cell_type": "code",
   "execution_count": 10,
   "id": "2f948ea6",
   "metadata": {},
   "outputs": [
    {
     "data": {
      "text/plain": [
       "<User: ubuntuuser>"
      ]
     },
     "execution_count": 10,
     "metadata": {},
     "output_type": "execute_result"
    }
   ],
   "source": [
    "# superuser = admin user\n",
    "# python manage.py createsuperuser\n",
    "# User.objects.create_superuser()\n",
    "\n",
    "super_u = User.objects.filter(is_superuser=True).first()\n",
    "super_u"
   ]
  },
  {
   "cell_type": "code",
   "execution_count": 11,
   "id": "3422dc0c",
   "metadata": {},
   "outputs": [
    {
     "data": {
      "text/plain": [
       "<QuerySet []>"
      ]
     },
     "execution_count": 11,
     "metadata": {},
     "output_type": "execute_result"
    }
   ],
   "source": [
    "super_u.user_permissions.all()"
   ]
  },
  {
   "cell_type": "code",
   "execution_count": 19,
   "id": "a7707590",
   "metadata": {},
   "outputs": [
    {
     "data": {
      "text/plain": [
       "<User: ethanhunt>"
      ]
     },
     "execution_count": 19,
     "metadata": {},
     "output_type": "execute_result"
    }
   ],
   "source": [
    "staff_u = User.objects.filter(is_superuser=False, is_staff=True).first()\n",
    "staff_u"
   ]
  },
  {
   "cell_type": "code",
   "execution_count": 20,
   "id": "1fb1771f",
   "metadata": {},
   "outputs": [
    {
     "data": {
      "text/plain": [
       "<QuerySet []>"
      ]
     },
     "execution_count": 20,
     "metadata": {},
     "output_type": "execute_result"
    }
   ],
   "source": [
    "staff_u.user_permissions.all()"
   ]
  },
  {
   "cell_type": "code",
   "execution_count": 22,
   "id": "8f7592c2",
   "metadata": {},
   "outputs": [
    {
     "name": "stdout",
     "output_type": "stream",
     "text": [
      "view_logentry\n",
      "view_group\n",
      "view_permission\n",
      "view_user\n",
      "view_contenttype\n",
      "view_document\n",
      "view_session\n"
     ]
    }
   ],
   "source": [
    "from django.contrib.auth.models import Permission # type: ignore\n",
    "perms_qs = Permission.objects.filter(codename__icontains=\"VIEW\")\n",
    "for obj in perms_qs:\n",
    "    print(obj.codename)\n",
    "    staff_u.user_permissions.remove(obj)"
   ]
  },
  {
   "cell_type": "code",
   "execution_count": 23,
   "id": "8708b518",
   "metadata": {},
   "outputs": [],
   "source": [
    "staff_u.user_permissions.set(perms_qs)"
   ]
  },
  {
   "cell_type": "code",
   "execution_count": 24,
   "id": "ca2751b3",
   "metadata": {},
   "outputs": [
    {
     "data": {
      "text/plain": [
       "<QuerySet [<Permission: Documents | document | Can add document>, <Permission: Documents | document | Can change document>, <Permission: Documents | document | Can delete document>, <Permission: Documents | document | Can view document>]>"
      ]
     },
     "execution_count": 24,
     "metadata": {},
     "output_type": "execute_result"
    }
   ],
   "source": [
    "docs_qs = Permission.objects.filter(codename__endswith=\"document\")\n",
    "docs_qs\n",
    "# staff_u.user_permissions.set(docs_qs)\n"
   ]
  },
  {
   "cell_type": "code",
   "execution_count": 25,
   "id": "24447d77",
   "metadata": {},
   "outputs": [
    {
     "data": {
      "text/plain": [
       "<QuerySet [<Permission: Administration | log entry | Can view log entry>, <Permission: Authentication and Authorization | group | Can view group>, <Permission: Authentication and Authorization | permission | Can view permission>, <Permission: Authentication and Authorization | user | Can view user>, <Permission: Content Types | content type | Can view content type>, <Permission: Documents | document | Can add document>, <Permission: Documents | document | Can change document>, <Permission: Documents | document | Can delete document>, <Permission: Documents | document | Can view document>, <Permission: Sessions | session | Can view session>]>"
      ]
     },
     "execution_count": 25,
     "metadata": {},
     "output_type": "execute_result"
    }
   ],
   "source": [
    "new_perms = docs_qs | perms_qs\n",
    "new_perms"
   ]
  },
  {
   "cell_type": "code",
   "execution_count": 26,
   "id": "54890638",
   "metadata": {},
   "outputs": [],
   "source": [
    "staff_u.user_permissions.set(new_perms)"
   ]
  },
  {
   "cell_type": "code",
   "execution_count": 28,
   "id": "6f0ac279",
   "metadata": {},
   "outputs": [],
   "source": [
    "new_perms = new_perms.exclude(codename__icontains=\"delete\")"
   ]
  },
  {
   "cell_type": "code",
   "execution_count": 29,
   "id": "8d2eae10",
   "metadata": {},
   "outputs": [],
   "source": [
    "staff_u.user_permissions.set(new_perms)"
   ]
  }
 ],
 "metadata": {
  "kernelspec": {
   "display_name": ".venv",
   "language": "python",
   "name": "python3"
  },
  "language_info": {
   "codemirror_mode": {
    "name": "ipython",
    "version": 3
   },
   "file_extension": ".py",
   "mimetype": "text/x-python",
   "name": "python",
   "nbconvert_exporter": "python",
   "pygments_lexer": "ipython3",
   "version": "3.12.3"
  }
 },
 "nbformat": 4,
 "nbformat_minor": 5
}
